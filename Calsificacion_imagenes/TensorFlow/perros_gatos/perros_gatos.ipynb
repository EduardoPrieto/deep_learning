{
  "nbformat": 4,
  "nbformat_minor": 0,
  "metadata": {
    "colab": {
      "name": "perros_gatos_v1.ipynb",
      "provenance": [],
      "collapsed_sections": []
    },
    "kernelspec": {
      "name": "python3",
      "display_name": "Python 3"
    },
    "accelerator": "GPU"
  },
  "cells": [
    {
      "cell_type": "code",
      "metadata": {
        "id": "r5rGlxPiaHDT",
        "colab_type": "code",
        "colab": {}
      },
      "source": [
        "import sys #librerias para movernos entre carpetas\n",
        "import os #librerias para movernos entre carpetas\n",
        "from tensorflow.python.keras.preprocessing.image import ImageDataGenerator #Nos ayudara a preprocesar las imagenes\n",
        "from tensorflow.python.keras import optimizers #optimizador con el cual vamos a entrenar nuestro algoritmo\n",
        "from tensorflow.python.keras.models import Sequential #Libreria que nos permite hacer redes neuronales secuenciales\n",
        "from tensorflow.python.keras.layers import Dropout, Flatten, Dense, Activation\n",
        "from tensorflow.python.keras.layers import  Convolution2D, MaxPooling2D #Son las capas donde haremos nuestras convoluciones y nuestro maxpooling\n",
        " "
      ],
      "execution_count": 0,
      "outputs": []
    },
    {
      "cell_type": "code",
      "metadata": {
        "id": "zd-W4-c9bhmu",
        "colab_type": "code",
        "outputId": "1335218f-1b12-40fe-b9f5-a0a41484a008",
        "colab": {
          "base_uri": "https://localhost:8080/",
          "height": 122
        }
      },
      "source": [
        "from google.colab import drive\n",
        "drive.mount(\"./drive\")"
      ],
      "execution_count": 2,
      "outputs": [
        {
          "output_type": "stream",
          "text": [
            "Go to this URL in a browser: https://accounts.google.com/o/oauth2/auth?client_id=947318989803-6bn6qk8qdgf4n4g3pfee6491hc0brc4i.apps.googleusercontent.com&redirect_uri=urn%3aietf%3awg%3aoauth%3a2.0%3aoob&response_type=code&scope=email%20https%3a%2f%2fwww.googleapis.com%2fauth%2fdocs.test%20https%3a%2f%2fwww.googleapis.com%2fauth%2fdrive%20https%3a%2f%2fwww.googleapis.com%2fauth%2fdrive.photos.readonly%20https%3a%2f%2fwww.googleapis.com%2fauth%2fpeopleapi.readonly\n",
            "\n",
            "Enter your authorization code:\n",
            "··········\n",
            "Mounted at ./drive\n"
          ],
          "name": "stdout"
        }
      ]
    },
    {
      "cell_type": "code",
      "metadata": {
        "id": "UTHqUvFZcw3M",
        "colab_type": "code",
        "colab": {}
      },
      "source": [
        "!cp drive/\"My Drive\"/carpetas/data.zip .\n",
        "!unzip data.zip;"
      ],
      "execution_count": 0,
      "outputs": []
    },
    {
      "cell_type": "code",
      "metadata": {
        "id": "Yhy2wGEpgkLm",
        "colab_type": "code",
        "colab": {}
      },
      "source": [
        "!ls drive/\"My Drive\""
      ],
      "execution_count": 0,
      "outputs": []
    },
    {
      "cell_type": "code",
      "metadata": {
        "id": "UDhpeqB7c9Xh",
        "colab_type": "code",
        "colab": {}
      },
      "source": [
        "!rm data.zip"
      ],
      "execution_count": 0,
      "outputs": []
    },
    {
      "cell_type": "code",
      "metadata": {
        "id": "H6fZgWq5dGND",
        "colab_type": "code",
        "colab": {}
      },
      "source": [
        "data_entrenamiento = './data/entrenamiento'\n",
        "data_validacion = './data/validacion'"
      ],
      "execution_count": 0,
      "outputs": []
    },
    {
      "cell_type": "code",
      "metadata": {
        "id": "Xy7G1XxqdPF5",
        "colab_type": "code",
        "colab": {}
      },
      "source": [
        "\"\"\"\n",
        "Parameters\n",
        "\"\"\"\n",
        "epocas=20 #Numero de veces que vamos a iterar nuestras imagenes en nuestro modelo\n",
        "longitud, altura = 150, 150 # Tamaño en que se va a procesar nuestras imagenes\n",
        "batch_size = 32 #Numero de imagenes que se va a mandar por cada paso\n",
        "pasos = 1000 # Numero de veces que se va a procesar la informacion en cada una de las epocas\n",
        "validation_steps = 300 #al final de cada epoca se correra para ver que tan bien esta aprendiendo nuestro algoritmo\n",
        "filtrosConv1 = 32 #\n",
        "filtrosConv2 = 64 # despues de cada convolucion cambia la profundidad de la imagen\n",
        "tamano_filtro1 = (3, 3)  #\n",
        "tamano_filtro2 = (2, 2) #tamaño del filtro\n",
        "tamano_pool = (2, 2) #tamaño del filtro del maxpooling\n",
        "clases = 2 \n",
        "lr = 0.001 #learningrate: que tan grande son los ajustes que hara nuestra red para acercarse a una solución optima"
      ],
      "execution_count": 0,
      "outputs": []
    },
    {
      "cell_type": "code",
      "metadata": {
        "id": "dUos3OmCdTiy",
        "colab_type": "code",
        "colab": {}
      },
      "source": [
        "entrenamiento_datagen = ImageDataGenerator(\n",
        "    rescale=1. / 255, #cada uno de nuestros pixeles tienen un rango de 0 a 255 y lo estamos cambiando de 0 a 1\n",
        "    shear_range=0.2, #generar imagenes, pero las va a inclinar\n",
        "    zoom_range=0.2, #a algunas les va a hacer zoom\n",
        "    horizontal_flip=True) #va a invertir algunas imagenes\n",
        "\n",
        "test_datagen = ImageDataGenerator(rescale=1. / 255)"
      ],
      "execution_count": 0,
      "outputs": []
    },
    {
      "cell_type": "code",
      "metadata": {
        "id": "OtalkODedXP4",
        "colab_type": "code",
        "outputId": "208df1be-35f3-4cfd-ebec-b15a0878cf83",
        "colab": {
          "base_uri": "https://localhost:8080/",
          "height": 51
        }
      },
      "source": [
        "entrenamiento_generador = entrenamiento_datagen.flow_from_directory(\n",
        "    data_entrenamiento,\n",
        "    target_size=(altura, longitud),\n",
        "    batch_size=batch_size,\n",
        "    class_mode='categorical')\n",
        "\n",
        "validacion_generador = test_datagen.flow_from_directory(\n",
        "    data_validacion,\n",
        "    target_size=(altura, longitud),\n",
        "    batch_size=batch_size,\n",
        "    class_mode='categorical')\n"
      ],
      "execution_count": 12,
      "outputs": [
        {
          "output_type": "stream",
          "text": [
            "Found 980 images belonging to 2 classes.\n",
            "Found 2023 images belonging to 2 classes.\n"
          ],
          "name": "stdout"
        }
      ]
    },
    {
      "cell_type": "code",
      "metadata": {
        "id": "uLxAoS30daNt",
        "colab_type": "code",
        "colab": {}
      },
      "source": [
        "cnn = Sequential() #vamos a generar una red secuancial, es decir varias capas apiladas\n",
        "cnn.add(Convolution2D(filtrosConv1, tamano_filtro1, padding =\"same\", input_shape=(longitud, altura, 3), activation='relu'))\n",
        "cnn.add(MaxPooling2D(pool_size=tamano_pool))\n",
        "\n",
        "cnn.add(Convolution2D(filtrosConv2, tamano_filtro2, padding =\"same\"))\n",
        "cnn.add(MaxPooling2D(pool_size=tamano_pool))\n",
        "\n",
        "cnn.add(Flatten()) #aplanamos la imagen\n",
        "cnn.add(Dense(256, activation='relu'))\n",
        "cnn.add(Dropout(0.5))#apaga la mitad de las neuronas por cada paso\n",
        "cnn.add(Dense(clases, activation='softmax'))\n",
        "\n",
        "cnn.compile(  'adam',\n",
        "  loss='categorical_crossentropy',\n",
        "  metrics=['accuracy'],)"
      ],
      "execution_count": 0,
      "outputs": []
    },
    {
      "cell_type": "code",
      "metadata": {
        "id": "QlSN-nSsdnGG",
        "colab_type": "code",
        "outputId": "dfb1e011-4fcf-46c5-8b81-f54f95cd6e92",
        "colab": {
          "base_uri": "https://localhost:8080/",
          "height": 785
        }
      },
      "source": [
        "cnn.fit_generator(\n",
        "    entrenamiento_generador,\n",
        "    steps_per_epoch=pasos,\n",
        "    epochs=epocas,\n",
        "    validation_data=validacion_generador,\n",
        "    validation_steps=validation_steps)"
      ],
      "execution_count": 0,
      "outputs": [
        {
          "output_type": "stream",
          "text": [
            "WARNING:tensorflow:From <ipython-input-10-4e629f014c78>:6: Model.fit_generator (from tensorflow.python.keras.engine.training) is deprecated and will be removed in a future version.\n",
            "Instructions for updating:\n",
            "Please use Model.fit, which supports generators.\n",
            "Epoch 1/20\n",
            "1000/1000 [==============================] - 246s 246ms/step - loss: 0.5879 - accuracy: 0.7435 - val_loss: 0.7477 - val_accuracy: 0.6927\n",
            "Epoch 2/20\n",
            "1000/1000 [==============================] - 242s 242ms/step - loss: 0.2024 - accuracy: 0.9191 - val_loss: 1.2244 - val_accuracy: 0.7215\n",
            "Epoch 3/20\n",
            "1000/1000 [==============================] - 240s 240ms/step - loss: 0.1185 - accuracy: 0.9572 - val_loss: 1.1627 - val_accuracy: 0.7167\n",
            "Epoch 4/20\n",
            "1000/1000 [==============================] - 239s 239ms/step - loss: 0.0878 - accuracy: 0.9695 - val_loss: 1.3594 - val_accuracy: 0.7112\n",
            "Epoch 5/20\n",
            "1000/1000 [==============================] - 238s 238ms/step - loss: 0.0744 - accuracy: 0.9743 - val_loss: 1.4750 - val_accuracy: 0.7207\n",
            "Epoch 6/20\n",
            "1000/1000 [==============================] - 242s 242ms/step - loss: 0.0657 - accuracy: 0.9781 - val_loss: 1.5857 - val_accuracy: 0.7163\n",
            "Epoch 7/20\n",
            "1000/1000 [==============================] - 237s 237ms/step - loss: 0.0661 - accuracy: 0.9790 - val_loss: 1.5547 - val_accuracy: 0.6947\n",
            "Epoch 8/20\n",
            "1000/1000 [==============================] - 238s 238ms/step - loss: 0.0633 - accuracy: 0.9808 - val_loss: 1.6943 - val_accuracy: 0.7068\n",
            "Epoch 9/20\n",
            "1000/1000 [==============================] - 236s 236ms/step - loss: 0.0532 - accuracy: 0.9826 - val_loss: 2.1669 - val_accuracy: 0.7106\n",
            "Epoch 10/20\n",
            "1000/1000 [==============================] - 236s 236ms/step - loss: 0.0490 - accuracy: 0.9847 - val_loss: 2.3861 - val_accuracy: 0.7096\n",
            "Epoch 11/20\n",
            "1000/1000 [==============================] - 237s 237ms/step - loss: 0.0504 - accuracy: 0.9853 - val_loss: 2.2892 - val_accuracy: 0.6984\n",
            "Epoch 12/20\n",
            "1000/1000 [==============================] - 237s 237ms/step - loss: 0.0443 - accuracy: 0.9867 - val_loss: 2.6263 - val_accuracy: 0.6793\n",
            "Epoch 13/20\n",
            "1000/1000 [==============================] - 238s 238ms/step - loss: 0.0413 - accuracy: 0.9874 - val_loss: 2.1043 - val_accuracy: 0.7067\n",
            "Epoch 14/20\n",
            "1000/1000 [==============================] - 238s 238ms/step - loss: 0.0518 - accuracy: 0.9856 - val_loss: 2.8439 - val_accuracy: 0.6929\n",
            "Epoch 15/20\n",
            "1000/1000 [==============================] - 237s 237ms/step - loss: 0.0354 - accuracy: 0.9897 - val_loss: 2.8194 - val_accuracy: 0.7198\n",
            "Epoch 16/20\n",
            "1000/1000 [==============================] - 235s 235ms/step - loss: 0.0443 - accuracy: 0.9880 - val_loss: 3.3360 - val_accuracy: 0.6668\n",
            "Epoch 17/20\n",
            "1000/1000 [==============================] - 236s 236ms/step - loss: 0.0389 - accuracy: 0.9891 - val_loss: 2.7499 - val_accuracy: 0.7205\n",
            "Epoch 18/20\n",
            "1000/1000 [==============================] - 235s 235ms/step - loss: 0.0535 - accuracy: 0.9860 - val_loss: 3.5984 - val_accuracy: 0.7279\n",
            "Epoch 19/20\n",
            "1000/1000 [==============================] - 240s 240ms/step - loss: 0.0301 - accuracy: 0.9918 - val_loss: 2.8447 - val_accuracy: 0.7245\n",
            "Epoch 20/20\n",
            "1000/1000 [==============================] - 241s 241ms/step - loss: 0.0441 - accuracy: 0.9887 - val_loss: 3.5229 - val_accuracy: 0.7204\n"
          ],
          "name": "stdout"
        },
        {
          "output_type": "execute_result",
          "data": {
            "text/plain": [
              "<tensorflow.python.keras.callbacks.History at 0x7f6ffa9791d0>"
            ]
          },
          "metadata": {
            "tags": []
          },
          "execution_count": 10
        }
      ]
    },
    {
      "cell_type": "code",
      "metadata": {
        "id": "gGwsSlTGdp0R",
        "colab_type": "code",
        "colab": {}
      },
      "source": [
        "target_dir = './modelo/'\n",
        "if not os.path.exists(target_dir):\n",
        "  os.mkdir(target_dir)\n",
        "cnn.save('./modelo/modelo.h5')\n",
        "cnn.save_weights('./modelo/pesos.h5')"
      ],
      "execution_count": 0,
      "outputs": []
    },
    {
      "cell_type": "code",
      "metadata": {
        "id": "YywpEMSSzEvq",
        "colab_type": "code",
        "outputId": "1df5afd9-ff4f-470b-b30d-0863d9687176",
        "colab": {
          "base_uri": "https://localhost:8080/",
          "height": 34
        }
      },
      "source": [
        "print(entrenamiento_generador.class_indices)"
      ],
      "execution_count": 0,
      "outputs": [
        {
          "output_type": "stream",
          "text": [
            "{'gato': 0, 'perro': 1}\n"
          ],
          "name": "stdout"
        }
      ]
    },
    {
      "cell_type": "code",
      "metadata": {
        "id": "aIfkrnpbm5os",
        "colab_type": "code",
        "colab": {
          "base_uri": "https://localhost:8080/",
          "height": 68
        },
        "outputId": "c360aa2b-b01f-4f94-c05b-6226a92fdf71"
      },
      "source": [
        "!cp drive/\"My Drive\"/modelo.zip .\n",
        "!unzip modelo.zip;"
      ],
      "execution_count": 16,
      "outputs": [
        {
          "output_type": "stream",
          "text": [
            "Archive:  modelo.zip\n",
            "  inflating: modelo/modelo.h5        \n",
            "  inflating: modelo/pesos.h5         \n"
          ],
          "name": "stdout"
        }
      ]
    },
    {
      "cell_type": "code",
      "metadata": {
        "id": "wd0yXhqynVDc",
        "colab_type": "code",
        "colab": {}
      },
      "source": [
        "!rm modelo.zip\n"
      ],
      "execution_count": 0,
      "outputs": []
    },
    {
      "cell_type": "markdown",
      "metadata": {
        "id": "ku-609NNmyIH",
        "colab_type": "text"
      },
      "source": [
        ""
      ]
    },
    {
      "cell_type": "code",
      "metadata": {
        "id": "l2BpqrhowlJN",
        "colab_type": "code",
        "outputId": "c69ec498-8850-4651-af06-725c659f940d",
        "colab": {
          "base_uri": "https://localhost:8080/",
          "height": 34
        }
      },
      "source": [
        "import numpy as np\n",
        "import tensorflow as tf \n",
        "from keras.preprocessing.image import load_img, img_to_array\n",
        "#from keras.models import load_model"
      ],
      "execution_count": 19,
      "outputs": [
        {
          "output_type": "stream",
          "text": [
            "Using TensorFlow backend.\n"
          ],
          "name": "stderr"
        }
      ]
    },
    {
      "cell_type": "code",
      "metadata": {
        "id": "Ar_Wl2unwrL1",
        "colab_type": "code",
        "outputId": "6437b249-aa3f-4945-fc50-c4627b777a64",
        "colab": {
          "base_uri": "https://localhost:8080/",
          "height": 54
        }
      },
      "source": [
        "longitud, altura = 150, 150\n",
        "modelo = './modelo/modelo.h5'\n",
        "pesos_modelo = './modelo/pesos.h5'\n",
        "cnn = tf.keras.models.load_model(modelo)\n",
        "cnn.load_weights(pesos_modelo)\n"
      ],
      "execution_count": 20,
      "outputs": [
        {
          "output_type": "stream",
          "text": [
            "WARNING:tensorflow:Error in loading the saved optimizer state. As a result, your model is starting with a freshly initialized optimizer.\n"
          ],
          "name": "stdout"
        }
      ]
    },
    {
      "cell_type": "code",
      "metadata": {
        "id": "YO4EG-8bwzKO",
        "colab_type": "code",
        "colab": {}
      },
      "source": [
        "def predict(file):\n",
        "  x = load_img(file, target_size=(longitud, altura))\n",
        "  x = img_to_array(x)\n",
        "  x = np.expand_dims(x, axis=0)\n",
        "  array = cnn.predict(x) # [[1,0]]\n",
        "  result = array[0] #[1,0]\n",
        "  answer = np.argmax(result)\n",
        "  dic ={0:'gato', 1:'perro'}\n",
        "  print(dic[answer])\n",
        "  return answer"
      ],
      "execution_count": 0,
      "outputs": []
    },
    {
      "cell_type": "code",
      "metadata": {
        "id": "PNHOIlhGw5JG",
        "colab_type": "code",
        "outputId": "080b1cf0-bbfd-4dbe-c7a5-37ec1f6eb5b7",
        "colab": {
          "base_uri": "https://localhost:8080/",
          "height": 51
        }
      },
      "source": [
        "predict('./data/perro.jpg')"
      ],
      "execution_count": 26,
      "outputs": [
        {
          "output_type": "stream",
          "text": [
            "perro\n"
          ],
          "name": "stdout"
        },
        {
          "output_type": "execute_result",
          "data": {
            "text/plain": [
              "1"
            ]
          },
          "metadata": {
            "tags": []
          },
          "execution_count": 26
        }
      ]
    },
    {
      "cell_type": "code",
      "metadata": {
        "id": "djjRl1svocPT",
        "colab_type": "code",
        "colab": {
          "base_uri": "https://localhost:8080/",
          "height": 34
        },
        "outputId": "700d1d0b-8daa-401f-c2b2-8b701c953766"
      },
      "source": [
        "!ls data"
      ],
      "execution_count": 23,
      "outputs": [
        {
          "output_type": "stream",
          "text": [
            "entrenamiento  gato2.jpg  gato3.jpg  perro1.jpg  perro.jpg  validacion\n"
          ],
          "name": "stdout"
        }
      ]
    }
  ]
}